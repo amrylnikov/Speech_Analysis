{
 "cells": [
  {
   "cell_type": "code",
   "execution_count": 1,
   "id": "above-tolerance",
   "metadata": {},
   "outputs": [
    {
     "name": "stdout",
     "output_type": "stream",
     "text": [
      "INFO:tensorflow:Enabling eager execution\n",
      "INFO:tensorflow:Enabling v2 tensorshape\n",
      "INFO:tensorflow:Enabling resource variables\n",
      "INFO:tensorflow:Enabling tensor equality\n",
      "INFO:tensorflow:Enabling control flow v2\n"
     ]
    }
   ],
   "source": [
    "import pandas as pd\n",
    "import numpy as np\n",
    "\n",
    "import os\n",
    "import sys\n",
    "\n",
    "# librosa is a Python library for analyzing audio and music. It can be used to extract the data from the audio files we will see it later.\n",
    "import librosa\n",
    "import librosa.display\n",
    "import seaborn as sns\n",
    "import matplotlib.pyplot as plt\n",
    "import tensorflow as tf\n",
    "\n",
    "from sklearn.preprocessing import StandardScaler, OneHotEncoder\n",
    "from sklearn.metrics import confusion_matrix, classification_report\n",
    "from sklearn.model_selection import train_test_split\n",
    "\n",
    "# to play the audio files\n",
    "from IPython.display import Audio\n",
    "\n",
    "import keras\n",
    "from keras.callbacks import ReduceLROnPlateau\n",
    "from keras.models import Sequential\n",
    "from keras.layers import Dense, Conv1D, MaxPooling1D, Flatten, Dropout, BatchNormalization\n",
    "from keras.utils import np_utils, to_categorical\n",
    "from keras.callbacks import ModelCheckpoint\n",
    "\n",
    "import warnings\n",
    "if not sys.warnoptions:\n",
    "    warnings.simplefilter(\"ignore\")\n",
    "warnings.filterwarnings(\"ignore\", category=DeprecationWarning)"
   ]
  },
  {
   "cell_type": "code",
   "execution_count": 2,
   "id": "blind-shareware",
   "metadata": {
    "scrolled": true
   },
   "outputs": [
    {
     "data": {
      "text/html": [
       "<div>\n",
       "<style scoped>\n",
       "    .dataframe tbody tr th:only-of-type {\n",
       "        vertical-align: middle;\n",
       "    }\n",
       "\n",
       "    .dataframe tbody tr th {\n",
       "        vertical-align: top;\n",
       "    }\n",
       "\n",
       "    .dataframe thead th {\n",
       "        text-align: right;\n",
       "    }\n",
       "</style>\n",
       "<table border=\"1\" class=\"dataframe\">\n",
       "  <thead>\n",
       "    <tr style=\"text-align: right;\">\n",
       "      <th></th>\n",
       "      <th>Emotions</th>\n",
       "      <th>Path</th>\n",
       "    </tr>\n",
       "  </thead>\n",
       "  <tbody>\n",
       "    <tr>\n",
       "      <th>0</th>\n",
       "      <td>neutral</td>\n",
       "      <td>C:/Users/Алексей/Desktop/учёба/python/speech-e...</td>\n",
       "    </tr>\n",
       "    <tr>\n",
       "      <th>1</th>\n",
       "      <td>neutral</td>\n",
       "      <td>C:/Users/Алексей/Desktop/учёба/python/speech-e...</td>\n",
       "    </tr>\n",
       "    <tr>\n",
       "      <th>2</th>\n",
       "      <td>neutral</td>\n",
       "      <td>C:/Users/Алексей/Desktop/учёба/python/speech-e...</td>\n",
       "    </tr>\n",
       "    <tr>\n",
       "      <th>3</th>\n",
       "      <td>neutral</td>\n",
       "      <td>C:/Users/Алексей/Desktop/учёба/python/speech-e...</td>\n",
       "    </tr>\n",
       "    <tr>\n",
       "      <th>4</th>\n",
       "      <td>calm</td>\n",
       "      <td>C:/Users/Алексей/Desktop/учёба/python/speech-e...</td>\n",
       "    </tr>\n",
       "  </tbody>\n",
       "</table>\n",
       "</div>"
      ],
      "text/plain": [
       "  Emotions                                               Path\n",
       "0  neutral  C:/Users/Алексей/Desktop/учёба/python/speech-e...\n",
       "1  neutral  C:/Users/Алексей/Desktop/учёба/python/speech-e...\n",
       "2  neutral  C:/Users/Алексей/Desktop/учёба/python/speech-e...\n",
       "3  neutral  C:/Users/Алексей/Desktop/учёба/python/speech-e...\n",
       "4     calm  C:/Users/Алексей/Desktop/учёба/python/speech-e..."
      ]
     },
     "execution_count": 2,
     "metadata": {},
     "output_type": "execute_result"
    }
   ],
   "source": [
    "Ravdess = \"C:/Users/Алексей/Desktop/учёба/python/speech-emotion-recognition-ravdess-data\"\n",
    "ravdess_directory_list = os.listdir(Ravdess)\n",
    "\n",
    "file_emotion = []\n",
    "file_path = []\n",
    "for dir in ravdess_directory_list:\n",
    "    # as their are 20 different actors in our previous directory we need to extract files for each actor.\n",
    "    actor = os.listdir(Ravdess + '/' + dir)\n",
    "    for file in actor:\n",
    "        part = file.split('.')[0]\n",
    "        part = part.split('-')\n",
    "        # third part in each file represents the emotion associated to that file.\n",
    "        file_emotion.append(int(part[2]))\n",
    "        file_path.append(Ravdess + '/' + dir + '/' + file)\n",
    "        \n",
    "# dataframe for emotion of files\n",
    "emotion_df = pd.DataFrame(file_emotion, columns=['Emotions'])\n",
    "\n",
    "# dataframe for path of files.\n",
    "path_df = pd.DataFrame(file_path, columns=['Path'])\n",
    "Ravdess_df = pd.concat([emotion_df, path_df], axis=1)\n",
    "\n",
    "# changing integers to actual emotions.\n",
    "Ravdess_df.Emotions.replace({1:'neutral', 2:'calm', 3:'happy', 4:'sad', 5:'angry', 6:'fear', 7:'disgust', 8:'surprise'}, inplace=True)\n",
    "Ravdess_df.head()"
   ]
  },
  {
   "cell_type": "code",
   "execution_count": 3,
   "id": "informational-rabbit",
   "metadata": {},
   "outputs": [
    {
     "data": {
      "text/html": [
       "<div>\n",
       "<style scoped>\n",
       "    .dataframe tbody tr th:only-of-type {\n",
       "        vertical-align: middle;\n",
       "    }\n",
       "\n",
       "    .dataframe tbody tr th {\n",
       "        vertical-align: top;\n",
       "    }\n",
       "\n",
       "    .dataframe thead th {\n",
       "        text-align: right;\n",
       "    }\n",
       "</style>\n",
       "<table border=\"1\" class=\"dataframe\">\n",
       "  <thead>\n",
       "    <tr style=\"text-align: right;\">\n",
       "      <th></th>\n",
       "      <th>Emotions</th>\n",
       "      <th>Path</th>\n",
       "    </tr>\n",
       "  </thead>\n",
       "  <tbody>\n",
       "    <tr>\n",
       "      <th>0</th>\n",
       "      <td>neutral</td>\n",
       "      <td>C:/Users/Алексей/Desktop/учёба/python/speech-e...</td>\n",
       "    </tr>\n",
       "    <tr>\n",
       "      <th>1</th>\n",
       "      <td>neutral</td>\n",
       "      <td>C:/Users/Алексей/Desktop/учёба/python/speech-e...</td>\n",
       "    </tr>\n",
       "    <tr>\n",
       "      <th>2</th>\n",
       "      <td>neutral</td>\n",
       "      <td>C:/Users/Алексей/Desktop/учёба/python/speech-e...</td>\n",
       "    </tr>\n",
       "    <tr>\n",
       "      <th>3</th>\n",
       "      <td>neutral</td>\n",
       "      <td>C:/Users/Алексей/Desktop/учёба/python/speech-e...</td>\n",
       "    </tr>\n",
       "    <tr>\n",
       "      <th>4</th>\n",
       "      <td>calm</td>\n",
       "      <td>C:/Users/Алексей/Desktop/учёба/python/speech-e...</td>\n",
       "    </tr>\n",
       "  </tbody>\n",
       "</table>\n",
       "</div>"
      ],
      "text/plain": [
       "  Emotions                                               Path\n",
       "0  neutral  C:/Users/Алексей/Desktop/учёба/python/speech-e...\n",
       "1  neutral  C:/Users/Алексей/Desktop/учёба/python/speech-e...\n",
       "2  neutral  C:/Users/Алексей/Desktop/учёба/python/speech-e...\n",
       "3  neutral  C:/Users/Алексей/Desktop/учёба/python/speech-e...\n",
       "4     calm  C:/Users/Алексей/Desktop/учёба/python/speech-e..."
      ]
     },
     "execution_count": 3,
     "metadata": {},
     "output_type": "execute_result"
    }
   ],
   "source": [
    "data_path = pd.concat([Ravdess_df], axis = 0)\n",
    "data_path.to_csv(\"data_path.csv\",index=False)\n",
    "data_path.head()"
   ]
  },
  {
   "cell_type": "code",
   "execution_count": 4,
   "id": "pointed-eclipse",
   "metadata": {},
   "outputs": [
    {
     "data": {
      "image/png": "[encoded data removed]",
      "text/plain": [
       "<Figure size 432x288 with 1 Axes>"
      ]
     },
     "metadata": {
      "needs_background": "light"
     },
     "output_type": "display_data"
    }
   ],
   "source": [
    "plt.title('Count of Emotions', size=16)\n",
    "sns.countplot(data_path.Emotions)\n",
    "plt.ylabel('Count', size=12)\n",
    "plt.xlabel('Emotions', size=12)\n",
    "sns.despine(top=True, right=True, left=False, bottom=False)\n",
    "plt.show()"
   ]
  },
  {
   "cell_type": "code",
   "execution_count": 5,
   "id": "western-carry",
   "metadata": {},
   "outputs": [
    {
     "data": {
      "text/plain": [
       "'C:/Users/Алексей/Desktop/учёба/python/speech-emotion-recognition-ravdess-data/Actor_01/03-01-01-01-01-01-01.wav'"
      ]
     },
     "execution_count": 5,
     "metadata": {},
     "output_type": "execute_result"
    }
   ],
   "source": [
    "data_path.Path[0]"
   ]
  },
  {
   "cell_type": "code",
   "execution_count": 6,
   "id": "artificial-right",
   "metadata": {},
   "outputs": [],
   "source": [
    "def noise(data):\n",
    "    noise_amp = 0.035*np.random.uniform()*np.amax(data)\n",
    "    data = data + noise_amp*np.random.normal(size=data.shape[0])\n",
    "    return data\n",
    "\n",
    "def stretch(data, rate=0.8):\n",
    "    return librosa.effects.time_stretch(data, rate)\n",
    "\n",
    "def shift(data):\n",
    "    shift_range = int(np.random.uniform(low=-5, high = 5)*1000)\n",
    "    return np.roll(data, shift_range)\n",
    "\n",
    "def pitch(data, sampling_rate, pitch_factor=0.7):\n",
    "    return librosa.effects.pitch_shift(data, sampling_rate, pitch_factor)\n",
    "\n",
    "# taking any example and checking for techniques.\n",
    "path = np.array(data_path.Path)[1]\n",
    "data, sample_rate = librosa.load(path)"
   ]
  },
  {
   "cell_type": "code",
   "execution_count": 7,
   "id": "public-boring",
   "metadata": {},
   "outputs": [],
   "source": [
    "def extract_features(data):\n",
    "    # ZCR\n",
    "    result = np.array([])\n",
    "    zcr = np.mean(librosa.feature.zero_crossing_rate(y=data).T, axis=0)\n",
    "    result=np.hstack((result, zcr)) # stacking horizontally\n",
    "\n",
    "    # Chroma_stft\n",
    "    stft = np.abs(librosa.stft(data))\n",
    "    chroma_stft = np.mean(librosa.feature.chroma_stft(S=stft, sr=sample_rate).T, axis=0)\n",
    "    result = np.hstack((result, chroma_stft)) # stacking horizontally\n",
    "\n",
    "    # MFCC\n",
    "    mfcc = np.mean(librosa.feature.mfcc(y=data, sr=sample_rate).T, axis=0)\n",
    "    result = np.hstack((result, mfcc)) # stacking horizontally\n",
    "\n",
    "    # Root Mean Square Value\n",
    "    rms = np.mean(librosa.feature.rms(y=data).T, axis=0)\n",
    "    result = np.hstack((result, rms)) # stacking horizontally\n",
    "\n",
    "    # MelSpectogram\n",
    "    mel = np.mean(librosa.feature.melspectrogram(y=data, sr=sample_rate).T, axis=0)\n",
    "    result = np.hstack((result, mel)) # stacking horizontally\n",
    "    \n",
    "    return result\n",
    "\n",
    "def get_features(path):\n",
    "    # duration and offset are used to take care of the no audio in start and the ending of each audio files as seen above.\n",
    "    data, sample_rate = librosa.load(path, duration=2.5, offset=0.6)\n",
    "    \n",
    "    # without augmentation\n",
    "    res1 = extract_features(data)\n",
    "    result = np.array(res1)\n",
    "    \n",
    "    # data with noise\n",
    "    noise_data = noise(data)\n",
    "    res2 = extract_features(noise_data)\n",
    "    result = np.vstack((result, res2)) # stacking vertically\n",
    "    \n",
    "    # data with stretching and pitching\n",
    "    new_data = stretch(data)\n",
    "    data_stretch_pitch = pitch(new_data, sample_rate)\n",
    "    res3 = extract_features(data_stretch_pitch)\n",
    "    result = np.vstack((result, res3)) # stacking vertically\n",
    "    \n",
    "    return result"
   ]
  },
  {
   "cell_type": "code",
   "execution_count": 8,
   "id": "floppy-minister",
   "metadata": {},
   "outputs": [],
   "source": [
    "X, Y = [], []\n",
    "for path, emotion in zip(data_path.Path, data_path.Emotions):\n",
    "    feature = get_features(path)\n",
    "    for ele in feature:\n",
    "        X.append(ele)\n",
    "        # appending emotion 3 times as we have made 3 augmentation techniques on each audio file.\n",
    "        Y.append(emotion)"
   ]
  },
  {
   "cell_type": "code",
   "execution_count": 9,
   "id": "marine-beverage",
   "metadata": {},
   "outputs": [
    {
     "data": {
      "text/plain": [
       "(4320, 4320, (1440,))"
      ]
     },
     "execution_count": 9,
     "metadata": {},
     "output_type": "execute_result"
    }
   ],
   "source": [
    "len(X), len(Y), data_path.Path.shape\n"
   ]
  },
  {
   "cell_type": "code",
   "execution_count": 10,
   "id": "limiting-footwear",
   "metadata": {},
   "outputs": [
    {
     "data": {
      "text/html": [
       "<div>\n",
       "<style scoped>\n",
       "    .dataframe tbody tr th:only-of-type {\n",
       "        vertical-align: middle;\n",
       "    }\n",
       "\n",
       "    .dataframe tbody tr th {\n",
       "        vertical-align: top;\n",
       "    }\n",
       "\n",
       "    .dataframe thead th {\n",
       "        text-align: right;\n",
       "    }\n",
       "</style>\n",
       "<table border=\"1\" class=\"dataframe\">\n",
       "  <thead>\n",
       "    <tr style=\"text-align: right;\">\n",
       "      <th></th>\n",
       "      <th>0</th>\n",
       "      <th>1</th>\n",
       "      <th>2</th>\n",
       "      <th>3</th>\n",
       "      <th>4</th>\n",
       "      <th>5</th>\n",
       "      <th>6</th>\n",
       "      <th>7</th>\n",
       "      <th>8</th>\n",
       "      <th>9</th>\n",
       "      <th>...</th>\n",
       "      <th>153</th>\n",
       "      <th>154</th>\n",
       "      <th>155</th>\n",
       "      <th>156</th>\n",
       "      <th>157</th>\n",
       "      <th>158</th>\n",
       "      <th>159</th>\n",
       "      <th>160</th>\n",
       "      <th>161</th>\n",
       "      <th>labels</th>\n",
       "    </tr>\n",
       "  </thead>\n",
       "  <tbody>\n",
       "    <tr>\n",
       "      <th>0</th>\n",
       "      <td>0.237707</td>\n",
       "      <td>0.659504</td>\n",
       "      <td>0.688300</td>\n",
       "      <td>0.660306</td>\n",
       "      <td>0.668153</td>\n",
       "      <td>0.691578</td>\n",
       "      <td>0.679806</td>\n",
       "      <td>0.700728</td>\n",
       "      <td>0.743931</td>\n",
       "      <td>0.777429</td>\n",
       "      <td>...</td>\n",
       "      <td>1.971535e-16</td>\n",
       "      <td>1.694119e-16</td>\n",
       "      <td>1.561859e-16</td>\n",
       "      <td>1.566727e-16</td>\n",
       "      <td>1.521193e-16</td>\n",
       "      <td>1.325442e-16</td>\n",
       "      <td>1.309995e-16</td>\n",
       "      <td>1.341276e-16</td>\n",
       "      <td>1.188672e-16</td>\n",
       "      <td>neutral</td>\n",
       "    </tr>\n",
       "    <tr>\n",
       "      <th>1</th>\n",
       "      <td>0.333898</td>\n",
       "      <td>0.783868</td>\n",
       "      <td>0.841631</td>\n",
       "      <td>0.822366</td>\n",
       "      <td>0.814667</td>\n",
       "      <td>0.835120</td>\n",
       "      <td>0.766888</td>\n",
       "      <td>0.681946</td>\n",
       "      <td>0.710950</td>\n",
       "      <td>0.754929</td>\n",
       "      <td>...</td>\n",
       "      <td>1.209044e-04</td>\n",
       "      <td>1.149589e-04</td>\n",
       "      <td>1.146029e-04</td>\n",
       "      <td>1.142487e-04</td>\n",
       "      <td>1.129702e-04</td>\n",
       "      <td>1.172308e-04</td>\n",
       "      <td>1.188909e-04</td>\n",
       "      <td>1.250954e-04</td>\n",
       "      <td>1.202250e-04</td>\n",
       "      <td>neutral</td>\n",
       "    </tr>\n",
       "    <tr>\n",
       "      <th>2</th>\n",
       "      <td>0.166967</td>\n",
       "      <td>0.578606</td>\n",
       "      <td>0.608995</td>\n",
       "      <td>0.669059</td>\n",
       "      <td>0.597341</td>\n",
       "      <td>0.606837</td>\n",
       "      <td>0.673561</td>\n",
       "      <td>0.681284</td>\n",
       "      <td>0.704720</td>\n",
       "      <td>0.715759</td>\n",
       "      <td>...</td>\n",
       "      <td>8.504842e-13</td>\n",
       "      <td>7.684326e-13</td>\n",
       "      <td>5.920987e-13</td>\n",
       "      <td>5.803375e-13</td>\n",
       "      <td>6.579538e-13</td>\n",
       "      <td>5.743235e-13</td>\n",
       "      <td>4.853721e-13</td>\n",
       "      <td>5.919732e-13</td>\n",
       "      <td>5.719862e-13</td>\n",
       "      <td>neutral</td>\n",
       "    </tr>\n",
       "    <tr>\n",
       "      <th>3</th>\n",
       "      <td>0.207284</td>\n",
       "      <td>0.649996</td>\n",
       "      <td>0.689978</td>\n",
       "      <td>0.661347</td>\n",
       "      <td>0.645627</td>\n",
       "      <td>0.683498</td>\n",
       "      <td>0.684929</td>\n",
       "      <td>0.679601</td>\n",
       "      <td>0.732510</td>\n",
       "      <td>0.756296</td>\n",
       "      <td>...</td>\n",
       "      <td>9.362395e-17</td>\n",
       "      <td>1.017879e-16</td>\n",
       "      <td>8.988049e-17</td>\n",
       "      <td>9.321180e-17</td>\n",
       "      <td>9.068552e-17</td>\n",
       "      <td>9.977286e-17</td>\n",
       "      <td>8.490875e-17</td>\n",
       "      <td>8.585167e-17</td>\n",
       "      <td>9.594946e-17</td>\n",
       "      <td>neutral</td>\n",
       "    </tr>\n",
       "    <tr>\n",
       "      <th>4</th>\n",
       "      <td>0.335250</td>\n",
       "      <td>0.800527</td>\n",
       "      <td>0.841194</td>\n",
       "      <td>0.817580</td>\n",
       "      <td>0.803836</td>\n",
       "      <td>0.809716</td>\n",
       "      <td>0.715835</td>\n",
       "      <td>0.670987</td>\n",
       "      <td>0.716285</td>\n",
       "      <td>0.753328</td>\n",
       "      <td>...</td>\n",
       "      <td>1.794014e-04</td>\n",
       "      <td>1.771612e-04</td>\n",
       "      <td>1.799059e-04</td>\n",
       "      <td>1.847258e-04</td>\n",
       "      <td>1.745911e-04</td>\n",
       "      <td>1.820783e-04</td>\n",
       "      <td>1.796495e-04</td>\n",
       "      <td>1.794041e-04</td>\n",
       "      <td>1.782596e-04</td>\n",
       "      <td>neutral</td>\n",
       "    </tr>\n",
       "  </tbody>\n",
       "</table>\n",
       "<p>5 rows × 163 columns</p>\n",
       "</div>"
      ],
      "text/plain": [
       "          0         1         2         3         4         5         6  \\\n",
       "0  0.237707  0.659504  0.688300  0.660306  0.668153  0.691578  0.679806   \n",
       "1  0.333898  0.783868  0.841631  0.822366  0.814667  0.835120  0.766888   \n",
       "2  0.166967  0.578606  0.608995  0.669059  0.597341  0.606837  0.673561   \n",
       "3  0.207284  0.649996  0.689978  0.661347  0.645627  0.683498  0.684929   \n",
       "4  0.335250  0.800527  0.841194  0.817580  0.803836  0.809716  0.715835   \n",
       "\n",
       "          7         8         9  ...           153           154  \\\n",
       "0  0.700728  0.743931  0.777429  ...  1.971535e-16  1.694119e-16   \n",
       "1  0.681946  0.710950  0.754929  ...  1.209044e-04  1.149589e-04   \n",
       "2  0.681284  0.704720  0.715759  ...  8.504842e-13  7.684326e-13   \n",
       "3  0.679601  0.732510  0.756296  ...  9.362395e-17  1.017879e-16   \n",
       "4  0.670987  0.716285  0.753328  ...  1.794014e-04  1.771612e-04   \n",
       "\n",
       "            155           156           157           158           159  \\\n",
       "0  1.561859e-16  1.566727e-16  1.521193e-16  1.325442e-16  1.309995e-16   \n",
       "1  1.146029e-04  1.142487e-04  1.129702e-04  1.172308e-04  1.188909e-04   \n",
       "2  5.920987e-13  5.803375e-13  6.579538e-13  5.743235e-13  4.853721e-13   \n",
       "3  8.988049e-17  9.321180e-17  9.068552e-17  9.977286e-17  8.490875e-17   \n",
       "4  1.799059e-04  1.847258e-04  1.745911e-04  1.820783e-04  1.796495e-04   \n",
       "\n",
       "            160           161   labels  \n",
       "0  1.341276e-16  1.188672e-16  neutral  \n",
       "1  1.250954e-04  1.202250e-04  neutral  \n",
       "2  5.919732e-13  5.719862e-13  neutral  \n",
       "3  8.585167e-17  9.594946e-17  neutral  \n",
       "4  1.794041e-04  1.782596e-04  neutral  \n",
       "\n",
       "[5 rows x 163 columns]"
      ]
     },
     "execution_count": 10,
     "metadata": {},
     "output_type": "execute_result"
    }
   ],
   "source": [
    "Features = pd.DataFrame(X)\n",
    "Features['labels'] = Y\n",
    "Features.to_csv('features.csv', index=False)\n",
    "Features.head()"
   ]
  },
  {
   "cell_type": "code",
   "execution_count": 11,
   "id": "indonesian-elizabeth",
   "metadata": {},
   "outputs": [
    {
     "data": {
      "text/plain": [
       "(4320,)"
      ]
     },
     "execution_count": 11,
     "metadata": {},
     "output_type": "execute_result"
    }
   ],
   "source": [
    "X = Features.iloc[: ,:-1].values\n",
    "Y = Features['labels'].values\n",
    "Y.shape"
   ]
  },
  {
   "cell_type": "code",
   "execution_count": 12,
   "id": "raised-swiss",
   "metadata": {},
   "outputs": [],
   "source": [
    "# As this is a multiclass classification problem onehotencoding our Y.\n",
    "encoder = OneHotEncoder()\n",
    "Y = encoder.fit_transform(np.array(Y).reshape(-1,1)).toarray()"
   ]
  },
  {
   "cell_type": "code",
   "execution_count": 13,
   "id": "domestic-finding",
   "metadata": {},
   "outputs": [
    {
     "data": {
      "text/plain": [
       "((3240, 162), (3240, 8), (1080, 162), (1080, 8))"
      ]
     },
     "execution_count": 13,
     "metadata": {},
     "output_type": "execute_result"
    }
   ],
   "source": [
    "# splitting data\n",
    "x_train, x_test, y_train, y_test = train_test_split(X, Y, random_state=0, shuffle=True)\n",
    "x_train.shape, y_train.shape, x_test.shape, y_test.shape"
   ]
  },
  {
   "cell_type": "code",
   "execution_count": 14,
   "id": "sized-sender",
   "metadata": {},
   "outputs": [
    {
     "data": {
      "text/plain": [
       "((3240, 162), (3240, 8), (1080, 162), (1080, 8))"
      ]
     },
     "execution_count": 14,
     "metadata": {},
     "output_type": "execute_result"
    }
   ],
   "source": [
    "# scaling our data with sklearn's Standard scaler\n",
    "scaler = StandardScaler()\n",
    "x_train = scaler.fit_transform(x_train)\n",
    "x_test = scaler.transform(x_test)\n",
    "x_train.shape, y_train.shape, x_test.shape, y_test.shape"
   ]
  },
  {
   "cell_type": "code",
   "execution_count": 15,
   "id": "numerical-baptist",
   "metadata": {},
   "outputs": [
    {
     "data": {
      "text/plain": [
       "((3240, 162), (3240, 8), (1080, 162), (1080, 8))"
      ]
     },
     "execution_count": 15,
     "metadata": {},
     "output_type": "execute_result"
    }
   ],
   "source": [
    "# scaling our data with sklearn's Standard scaler\n",
    "scaler = StandardScaler()\n",
    "x_train = scaler.fit_transform(x_train)\n",
    "x_test = scaler.transform(x_test)\n",
    "x_train.shape, y_train.shape, x_test.shape, y_test.shape"
   ]
  },
  {
   "cell_type": "code",
   "execution_count": 16,
   "id": "about-ghana",
   "metadata": {},
   "outputs": [
    {
     "data": {
      "text/plain": [
       "((3240, 162, 1), (3240, 8), (1080, 162, 1), (1080, 8))"
      ]
     },
     "execution_count": 16,
     "metadata": {},
     "output_type": "execute_result"
    }
   ],
   "source": [
    "# making our data compatible to model.\n",
    "x_train = np.expand_dims(x_train, axis=2)\n",
    "x_test = np.expand_dims(x_test, axis=2)\n",
    "x_train.shape, y_train.shape, x_test.shape, y_test.shape"
   ]
  },
  {
   "cell_type": "code",
   "execution_count": 17,
   "id": "complete-festival",
   "metadata": {
    "scrolled": true
   },
   "outputs": [
    {
     "name": "stdout",
     "output_type": "stream",
     "text": [
      "Model: \"sequential\"\n",
      "_________________________________________________________________\n",
      "Layer (type)                 Output Shape              Param #   \n",
      "=================================================================\n",
      "conv1d (Conv1D)              (None, 162, 128)          768       \n",
      "_________________________________________________________________\n",
      "max_pooling1d (MaxPooling1D) (None, 81, 128)           0         \n",
      "_________________________________________________________________\n",
      "conv1d_1 (Conv1D)            (None, 81, 32)            20512     \n",
      "_________________________________________________________________\n",
      "max_pooling1d_1 (MaxPooling1 (None, 41, 32)            0         \n",
      "_________________________________________________________________\n",
      "conv1d_2 (Conv1D)            (None, 41, 320)           51520     \n",
      "_________________________________________________________________\n",
      "max_pooling1d_2 (MaxPooling1 (None, 21, 320)           0         \n",
      "_________________________________________________________________\n",
      "dropout (Dropout)            (None, 21, 320)           0         \n",
      "_________________________________________________________________\n",
      "conv1d_3 (Conv1D)            (None, 21, 64)            102464    \n",
      "_________________________________________________________________\n",
      "max_pooling1d_3 (MaxPooling1 (None, 11, 64)            0         \n",
      "_________________________________________________________________\n",
      "flatten (Flatten)            (None, 704)               0         \n",
      "_________________________________________________________________\n",
      "dense (Dense)                (None, 32)                22560     \n",
      "_________________________________________________________________\n",
      "dropout_1 (Dropout)          (None, 32)                0         \n",
      "_________________________________________________________________\n",
      "dense_1 (Dense)              (None, 8)                 264       \n",
      "=================================================================\n",
      "Total params: 198,088\n",
      "Trainable params: 198,088\n",
      "Non-trainable params: 0\n",
      "_________________________________________________________________\n"
     ]
    }
   ],
   "source": [
    "model=Sequential()\n",
    "model.add(Conv1D(128, kernel_size=5, strides=1, padding='same', activation='relu', input_shape=(x_train.shape[1], 1)))\n",
    "model.add(MaxPooling1D(pool_size=5, strides = 2, padding = 'same'))\n",
    "\n",
    "model.add(Conv1D(32, kernel_size=5, strides=1, padding='same', activation='relu'))\n",
    "model.add(MaxPooling1D(pool_size=5, strides = 2, padding = 'same'))\n",
    "\n",
    "model.add(Conv1D(320, kernel_size=5, strides=1, padding='same', activation='relu'))\n",
    "model.add(MaxPooling1D(pool_size=5, strides = 2, padding = 'same'))\n",
    "model.add(Dropout(0.2))\n",
    "\n",
    "model.add(Conv1D(64, kernel_size=5, strides=1, padding='same', activation='relu'))\n",
    "model.add(MaxPooling1D(pool_size=5, strides = 2, padding = 'same'))\n",
    "\n",
    "model.add(Flatten())\n",
    "model.add(Dense(units=32, activation='relu'))\n",
    "model.add(Dropout(0.3))\n",
    "\n",
    "model.add(Dense(units=8, activation='softmax'))\n",
    "model.compile(optimizer = 'adam' , loss = 'categorical_crossentropy' , metrics = ['accuracy'])\n",
    "\n",
    "model.summary()"
   ]
  },
  {
   "cell_type": "code",
   "execution_count": 18,
   "id": "political-disclaimer",
   "metadata": {
    "scrolled": false
   },
   "outputs": [
    {
     "name": "stdout",
     "output_type": "stream",
     "text": [
      "Epoch 1/50\n",
      "51/51 [==============================] - 7s 118ms/step - loss: 2.0429 - accuracy: 0.1581 - val_loss: 1.9834 - val_accuracy: 0.1750\n",
      "Epoch 2/50\n",
      "51/51 [==============================] - 5s 101ms/step - loss: 1.9898 - accuracy: 0.1818 - val_loss: 1.8828 - val_accuracy: 0.3056\n",
      "Epoch 3/50\n",
      "51/51 [==============================] - 5s 101ms/step - loss: 1.9037 - accuracy: 0.2587 - val_loss: 1.7899 - val_accuracy: 0.3306\n",
      "Epoch 4/50\n",
      "51/51 [==============================] - 5s 98ms/step - loss: 1.8512 - accuracy: 0.2777 - val_loss: 1.6850 - val_accuracy: 0.3463\n",
      "Epoch 5/50\n",
      "51/51 [==============================] - 5s 98ms/step - loss: 1.7590 - accuracy: 0.3321 - val_loss: 1.5991 - val_accuracy: 0.4009\n",
      "Epoch 6/50\n",
      "51/51 [==============================] - 5s 99ms/step - loss: 1.6920 - accuracy: 0.3407 - val_loss: 1.6072 - val_accuracy: 0.3880\n",
      "Epoch 7/50\n",
      "51/51 [==============================] - 5s 100ms/step - loss: 1.6833 - accuracy: 0.3605 - val_loss: 1.5422 - val_accuracy: 0.4167\n",
      "Epoch 8/50\n",
      "51/51 [==============================] - 5s 100ms/step - loss: 1.6212 - accuracy: 0.3832 - val_loss: 1.5168 - val_accuracy: 0.4176\n",
      "Epoch 9/50\n",
      "51/51 [==============================] - 5s 98ms/step - loss: 1.6101 - accuracy: 0.3920 - val_loss: 1.5369 - val_accuracy: 0.4296\n",
      "Epoch 10/50\n",
      "51/51 [==============================] - 5s 98ms/step - loss: 1.5848 - accuracy: 0.3890 - val_loss: 1.4550 - val_accuracy: 0.4472\n",
      "Epoch 11/50\n",
      "51/51 [==============================] - 5s 102ms/step - loss: 1.4990 - accuracy: 0.4201 - val_loss: 1.4588 - val_accuracy: 0.4426\n",
      "Epoch 12/50\n",
      "51/51 [==============================] - 5s 98ms/step - loss: 1.4760 - accuracy: 0.4426 - val_loss: 1.4414 - val_accuracy: 0.4704\n",
      "Epoch 13/50\n",
      "51/51 [==============================] - 5s 98ms/step - loss: 1.4438 - accuracy: 0.4428 - val_loss: 1.4026 - val_accuracy: 0.4694\n",
      "Epoch 14/50\n",
      "51/51 [==============================] - 5s 98ms/step - loss: 1.4308 - accuracy: 0.4613 - val_loss: 1.4195 - val_accuracy: 0.4574\n",
      "Epoch 15/50\n",
      "51/51 [==============================] - 5s 99ms/step - loss: 1.4162 - accuracy: 0.4628 - val_loss: 1.3756 - val_accuracy: 0.4731\n",
      "Epoch 16/50\n",
      "51/51 [==============================] - 5s 99ms/step - loss: 1.3472 - accuracy: 0.4776 - val_loss: 1.3602 - val_accuracy: 0.4981\n",
      "Epoch 17/50\n",
      "51/51 [==============================] - 5s 100ms/step - loss: 1.3454 - accuracy: 0.4961 - val_loss: 1.3732 - val_accuracy: 0.4880\n",
      "Epoch 18/50\n",
      "51/51 [==============================] - 5s 100ms/step - loss: 1.3393 - accuracy: 0.4919 - val_loss: 1.3642 - val_accuracy: 0.4954\n",
      "Epoch 19/50\n",
      "51/51 [==============================] - 5s 99ms/step - loss: 1.2837 - accuracy: 0.5180 - val_loss: 1.3300 - val_accuracy: 0.4898\n",
      "Epoch 20/50\n",
      "51/51 [==============================] - 5s 99ms/step - loss: 1.2606 - accuracy: 0.5206 - val_loss: 1.3277 - val_accuracy: 0.5065\n",
      "Epoch 21/50\n",
      "51/51 [==============================] - 5s 99ms/step - loss: 1.2289 - accuracy: 0.5358 - val_loss: 1.3055 - val_accuracy: 0.5157\n",
      "Epoch 22/50\n",
      "51/51 [==============================] - 5s 97ms/step - loss: 1.2289 - accuracy: 0.5368 - val_loss: 1.3482 - val_accuracy: 0.5037\n",
      "Epoch 23/50\n",
      "51/51 [==============================] - 5s 98ms/step - loss: 1.1676 - accuracy: 0.5493 - val_loss: 1.3109 - val_accuracy: 0.5231\n",
      "Epoch 24/50\n",
      "51/51 [==============================] - 5s 99ms/step - loss: 1.1648 - accuracy: 0.5671 - val_loss: 1.3149 - val_accuracy: 0.5296\n",
      "Epoch 25/50\n",
      "51/51 [==============================] - 5s 100ms/step - loss: 1.1571 - accuracy: 0.5620 - val_loss: 1.2925 - val_accuracy: 0.5269\n",
      "Epoch 26/50\n",
      "51/51 [==============================] - 5s 107ms/step - loss: 1.1231 - accuracy: 0.5754 - val_loss: 1.2675 - val_accuracy: 0.5343\n",
      "Epoch 27/50\n",
      "51/51 [==============================] - 5s 103ms/step - loss: 1.0953 - accuracy: 0.6007 - val_loss: 1.2306 - val_accuracy: 0.5528\n",
      "Epoch 28/50\n",
      "51/51 [==============================] - 5s 101ms/step - loss: 1.0489 - accuracy: 0.6142 - val_loss: 1.2694 - val_accuracy: 0.5426\n",
      "Epoch 29/50\n",
      "51/51 [==============================] - 5s 102ms/step - loss: 1.0289 - accuracy: 0.6250 - val_loss: 1.2495 - val_accuracy: 0.5509\n",
      "Epoch 30/50\n",
      "51/51 [==============================] - 5s 101ms/step - loss: 1.0262 - accuracy: 0.6084 - val_loss: 1.2605 - val_accuracy: 0.5602\n",
      "Epoch 31/50\n",
      "51/51 [==============================] - 5s 101ms/step - loss: 0.9377 - accuracy: 0.6606 - val_loss: 1.2643 - val_accuracy: 0.5537\n",
      "Epoch 32/50\n",
      "51/51 [==============================] - 5s 101ms/step - loss: 0.9373 - accuracy: 0.6405 - val_loss: 1.3101 - val_accuracy: 0.5463\n",
      "Epoch 33/50\n",
      "51/51 [==============================] - 5s 99ms/step - loss: 0.9500 - accuracy: 0.6464 - val_loss: 1.2934 - val_accuracy: 0.5639\n",
      "Epoch 34/50\n",
      "51/51 [==============================] - 6s 112ms/step - loss: 0.8688 - accuracy: 0.6838 - val_loss: 1.2431 - val_accuracy: 0.5889\n",
      "Epoch 35/50\n",
      "51/51 [==============================] - 5s 104ms/step - loss: 0.8173 - accuracy: 0.6927 - val_loss: 1.2061 - val_accuracy: 0.5935\n",
      "Epoch 36/50\n",
      "51/51 [==============================] - 5s 108ms/step - loss: 0.7595 - accuracy: 0.7157 - val_loss: 1.2274 - val_accuracy: 0.5833\n",
      "Epoch 37/50\n",
      "51/51 [==============================] - 5s 103ms/step - loss: 0.7457 - accuracy: 0.7102 - val_loss: 1.2489 - val_accuracy: 0.5815\n",
      "Epoch 38/50\n",
      "51/51 [==============================] - 5s 101ms/step - loss: 0.7123 - accuracy: 0.7265 - val_loss: 1.2302 - val_accuracy: 0.5731\n",
      "Epoch 39/50\n",
      "51/51 [==============================] - 5s 100ms/step - loss: 0.7150 - accuracy: 0.7430 - val_loss: 1.2368 - val_accuracy: 0.5889\n",
      "Epoch 40/50\n",
      "51/51 [==============================] - 5s 100ms/step - loss: 0.7033 - accuracy: 0.7384 - val_loss: 1.2411 - val_accuracy: 0.5917\n",
      "Epoch 41/50\n",
      "51/51 [==============================] - 5s 99ms/step - loss: 0.6529 - accuracy: 0.7568 - val_loss: 1.2388 - val_accuracy: 0.5954\n",
      "Epoch 42/50\n",
      "51/51 [==============================] - 5s 101ms/step - loss: 0.6579 - accuracy: 0.7555 - val_loss: 1.2367 - val_accuracy: 0.5935\n",
      "Epoch 43/50\n",
      "51/51 [==============================] - 5s 102ms/step - loss: 0.6492 - accuracy: 0.7611 - val_loss: 1.2557 - val_accuracy: 0.6083\n",
      "Epoch 44/50\n",
      "51/51 [==============================] - 5s 102ms/step - loss: 0.6317 - accuracy: 0.7691 - val_loss: 1.2473 - val_accuracy: 0.6056\n",
      "Epoch 45/50\n",
      "51/51 [==============================] - 5s 104ms/step - loss: 0.6321 - accuracy: 0.7686 - val_loss: 1.2841 - val_accuracy: 0.5991\n",
      "Epoch 46/50\n",
      "51/51 [==============================] - 5s 102ms/step - loss: 0.5952 - accuracy: 0.7919 - val_loss: 1.2568 - val_accuracy: 0.6009\n",
      "Epoch 47/50\n",
      "51/51 [==============================] - 5s 101ms/step - loss: 0.5901 - accuracy: 0.7853 - val_loss: 1.2971 - val_accuracy: 0.5926\n",
      "Epoch 48/50\n",
      "51/51 [==============================] - 5s 101ms/step - loss: 0.5697 - accuracy: 0.7986 - val_loss: 1.2868 - val_accuracy: 0.6139\n",
      "Epoch 49/50\n",
      "51/51 [==============================] - 5s 102ms/step - loss: 0.5859 - accuracy: 0.7819 - val_loss: 1.3032 - val_accuracy: 0.6000\n",
      "Epoch 50/50\n",
      "51/51 [==============================] - 5s 103ms/step - loss: 0.5651 - accuracy: 0.7947 - val_loss: 1.2717 - val_accuracy: 0.6037\n"
     ]
    }
   ],
   "source": [
    "rlrp = ReduceLROnPlateau(monitor='loss', factor=0.4, verbose=0, patience=2, min_lr=0.0000001)\n",
    "history = model.fit(x_train, y_train, batch_size=64, epochs=50, validation_data=(x_test, y_test), callbacks=[rlrp])"
   ]
  },
  {
   "cell_type": "code",
   "execution_count": 19,
   "id": "combined-frequency",
   "metadata": {},
   "outputs": [
    {
     "name": "stdout",
     "output_type": "stream",
     "text": [
      "34/34 [==============================] - 0s 11ms/step - loss: 1.2717 - accuracy: 0.6037\n",
      "Accuracy of our model on test data :  60.370367765426636 %\n"
     ]
    },
    {
     "data": {
      "image/png": "[encoded data removed]",
      "text/plain": [
       "<Figure size 1440x432 with 2 Axes>"
      ]
     },
     "metadata": {
      "needs_background": "light"
     },
     "output_type": "display_data"
    }
   ],
   "source": [
    "print(\"Accuracy of our model on test data : \" , model.evaluate(x_test,y_test)[1]*100 , \"%\")\n",
    "\n",
    "epochs = [i for i in range(50)]\n",
    "fig , ax = plt.subplots(1,2)\n",
    "train_acc = history.history['accuracy']\n",
    "train_loss = history.history['loss']\n",
    "test_acc = history.history['val_accuracy']\n",
    "test_loss = history.history['val_loss']\n",
    "\n",
    "fig.set_size_inches(20,6)\n",
    "ax[0].plot(epochs , train_loss , label = 'Training Loss')\n",
    "ax[0].plot(epochs , test_loss , label = 'Testing Loss')\n",
    "ax[0].set_title('Training & Testing Loss')\n",
    "ax[0].legend()\n",
    "ax[0].set_xlabel(\"Epochs\")\n",
    "\n",
    "ax[1].plot(epochs , train_acc , label = 'Training Accuracy')\n",
    "ax[1].plot(epochs , test_acc , label = 'Testing Accuracy')\n",
    "ax[1].set_title('Training & Testing Accuracy')\n",
    "ax[1].legend()\n",
    "ax[1].set_xlabel(\"Epochs\")\n",
    "plt.show()"
   ]
  },
  {
   "cell_type": "code",
   "execution_count": 20,
   "id": "suspected-prior",
   "metadata": {},
   "outputs": [],
   "source": [
    "# predicting on test data.\n",
    "pred_test = model.predict(x_test)\n",
    "y_pred = encoder.inverse_transform(pred_test)\n",
    "\n",
    "y_test = encoder.inverse_transform(y_test)"
   ]
  },
  {
   "cell_type": "code",
   "execution_count": 21,
   "id": "backed-grace",
   "metadata": {},
   "outputs": [
    {
     "data": {
      "text/html": [
       "<div>\n",
       "<style scoped>\n",
       "    .dataframe tbody tr th:only-of-type {\n",
       "        vertical-align: middle;\n",
       "    }\n",
       "\n",
       "    .dataframe tbody tr th {\n",
       "        vertical-align: top;\n",
       "    }\n",
       "\n",
       "    .dataframe thead th {\n",
       "        text-align: right;\n",
       "    }\n",
       "</style>\n",
       "<table border=\"1\" class=\"dataframe\">\n",
       "  <thead>\n",
       "    <tr style=\"text-align: right;\">\n",
       "      <th></th>\n",
       "      <th>Predicted Labels</th>\n",
       "      <th>Actual Labels</th>\n",
       "    </tr>\n",
       "  </thead>\n",
       "  <tbody>\n",
       "    <tr>\n",
       "      <th>0</th>\n",
       "      <td>fear</td>\n",
       "      <td>fear</td>\n",
       "    </tr>\n",
       "    <tr>\n",
       "      <th>1</th>\n",
       "      <td>angry</td>\n",
       "      <td>angry</td>\n",
       "    </tr>\n",
       "    <tr>\n",
       "      <th>2</th>\n",
       "      <td>fear</td>\n",
       "      <td>fear</td>\n",
       "    </tr>\n",
       "    <tr>\n",
       "      <th>3</th>\n",
       "      <td>neutral</td>\n",
       "      <td>calm</td>\n",
       "    </tr>\n",
       "    <tr>\n",
       "      <th>4</th>\n",
       "      <td>angry</td>\n",
       "      <td>angry</td>\n",
       "    </tr>\n",
       "    <tr>\n",
       "      <th>5</th>\n",
       "      <td>surprise</td>\n",
       "      <td>surprise</td>\n",
       "    </tr>\n",
       "    <tr>\n",
       "      <th>6</th>\n",
       "      <td>sad</td>\n",
       "      <td>fear</td>\n",
       "    </tr>\n",
       "    <tr>\n",
       "      <th>7</th>\n",
       "      <td>fear</td>\n",
       "      <td>happy</td>\n",
       "    </tr>\n",
       "    <tr>\n",
       "      <th>8</th>\n",
       "      <td>fear</td>\n",
       "      <td>fear</td>\n",
       "    </tr>\n",
       "    <tr>\n",
       "      <th>9</th>\n",
       "      <td>calm</td>\n",
       "      <td>sad</td>\n",
       "    </tr>\n",
       "  </tbody>\n",
       "</table>\n",
       "</div>"
      ],
      "text/plain": [
       "  Predicted Labels Actual Labels\n",
       "0             fear          fear\n",
       "1            angry         angry\n",
       "2             fear          fear\n",
       "3          neutral          calm\n",
       "4            angry         angry\n",
       "5         surprise      surprise\n",
       "6              sad          fear\n",
       "7             fear         happy\n",
       "8             fear          fear\n",
       "9             calm           sad"
      ]
     },
     "execution_count": 21,
     "metadata": {},
     "output_type": "execute_result"
    }
   ],
   "source": [
    "df = pd.DataFrame(columns=['Predicted Labels', 'Actual Labels'])\n",
    "df['Predicted Labels'] = y_pred.flatten()\n",
    "df['Actual Labels'] = y_test.flatten()\n",
    "\n",
    "df.head(10)"
   ]
  },
  {
   "cell_type": "code",
   "execution_count": 22,
   "id": "buried-meter",
   "metadata": {},
   "outputs": [
    {
     "data": {
      "image/png": "[encoded data removed]",
      "text/plain": [
       "<Figure size 864x720 with 2 Axes>"
      ]
     },
     "metadata": {
      "needs_background": "light"
     },
     "output_type": "display_data"
    }
   ],
   "source": [
    "cm = confusion_matrix(y_test, y_pred)\n",
    "plt.figure(figsize = (12, 10))\n",
    "cm = pd.DataFrame(cm , index = [i for i in encoder.categories_] , columns = [i for i in encoder.categories_])\n",
    "sns.heatmap(cm, linecolor='white', cmap='Blues', linewidth=1, annot=True, fmt='')\n",
    "plt.title('Confusion Matrix', size=20)\n",
    "plt.xlabel('Predicted Labels', size=14)\n",
    "plt.ylabel('Actual Labels', size=14)\n",
    "plt.show()"
   ]
  },
  {
   "cell_type": "code",
   "execution_count": 23,
   "id": "passing-malawi",
   "metadata": {},
   "outputs": [
    {
     "name": "stdout",
     "output_type": "stream",
     "text": [
      "              precision    recall  f1-score   support\n",
      "\n",
      "       angry       0.67      0.60      0.63       132\n",
      "        calm       0.70      0.78      0.74       159\n",
      "     disgust       0.64      0.43      0.51       135\n",
      "        fear       0.62      0.58      0.60       151\n",
      "       happy       0.48      0.60      0.53       141\n",
      "     neutral       0.56      0.53      0.54        72\n",
      "         sad       0.51      0.56      0.54       151\n",
      "    surprise       0.67      0.70      0.69       139\n",
      "\n",
      "    accuracy                           0.60      1080\n",
      "   macro avg       0.61      0.60      0.60      1080\n",
      "weighted avg       0.61      0.60      0.60      1080\n",
      "\n"
     ]
    }
   ],
   "source": [
    "print(classification_report(y_test, y_pred))\n"
   ]
  },
  {
   "cell_type": "code",
   "execution_count": 24,
   "id": "upper-austria",
   "metadata": {},
   "outputs": [],
   "source": [
    "model.save('models/keras.h5')"
   ]
  },
  {
   "cell_type": "code",
   "execution_count": 25,
   "id": "empirical-cemetery",
   "metadata": {},
   "outputs": [],
   "source": [
    "new_model = tf.keras.models.load_model('models/keras.h5')"
   ]
  },
  {
   "cell_type": "code",
   "execution_count": 26,
   "id": "sized-excitement",
   "metadata": {},
   "outputs": [
    {
     "data": {
      "text/html": [
       "<div>\n",
       "<style scoped>\n",
       "    .dataframe tbody tr th:only-of-type {\n",
       "        vertical-align: middle;\n",
       "    }\n",
       "\n",
       "    .dataframe tbody tr th {\n",
       "        vertical-align: top;\n",
       "    }\n",
       "\n",
       "    .dataframe thead th {\n",
       "        text-align: right;\n",
       "    }\n",
       "</style>\n",
       "<table border=\"1\" class=\"dataframe\">\n",
       "  <thead>\n",
       "    <tr style=\"text-align: right;\">\n",
       "      <th></th>\n",
       "      <th>Predicted Labels</th>\n",
       "      <th>Actual Labels</th>\n",
       "    </tr>\n",
       "  </thead>\n",
       "  <tbody>\n",
       "    <tr>\n",
       "      <th>0</th>\n",
       "      <td>fear</td>\n",
       "      <td>fear</td>\n",
       "    </tr>\n",
       "    <tr>\n",
       "      <th>1</th>\n",
       "      <td>angry</td>\n",
       "      <td>angry</td>\n",
       "    </tr>\n",
       "    <tr>\n",
       "      <th>2</th>\n",
       "      <td>fear</td>\n",
       "      <td>fear</td>\n",
       "    </tr>\n",
       "    <tr>\n",
       "      <th>3</th>\n",
       "      <td>neutral</td>\n",
       "      <td>calm</td>\n",
       "    </tr>\n",
       "    <tr>\n",
       "      <th>4</th>\n",
       "      <td>angry</td>\n",
       "      <td>angry</td>\n",
       "    </tr>\n",
       "    <tr>\n",
       "      <th>5</th>\n",
       "      <td>surprise</td>\n",
       "      <td>surprise</td>\n",
       "    </tr>\n",
       "    <tr>\n",
       "      <th>6</th>\n",
       "      <td>sad</td>\n",
       "      <td>fear</td>\n",
       "    </tr>\n",
       "    <tr>\n",
       "      <th>7</th>\n",
       "      <td>fear</td>\n",
       "      <td>happy</td>\n",
       "    </tr>\n",
       "    <tr>\n",
       "      <th>8</th>\n",
       "      <td>fear</td>\n",
       "      <td>fear</td>\n",
       "    </tr>\n",
       "    <tr>\n",
       "      <th>9</th>\n",
       "      <td>calm</td>\n",
       "      <td>sad</td>\n",
       "    </tr>\n",
       "  </tbody>\n",
       "</table>\n",
       "</div>"
      ],
      "text/plain": [
       "  Predicted Labels Actual Labels\n",
       "0             fear          fear\n",
       "1            angry         angry\n",
       "2             fear          fear\n",
       "3          neutral          calm\n",
       "4            angry         angry\n",
       "5         surprise      surprise\n",
       "6              sad          fear\n",
       "7             fear         happy\n",
       "8             fear          fear\n",
       "9             calm           sad"
      ]
     },
     "execution_count": 26,
     "metadata": {},
     "output_type": "execute_result"
    }
   ],
   "source": [
    "pred_test = new_model.predict(x_test)\n",
    "pred_test\n",
    "y_pred = encoder.inverse_transform(pred_test)\n",
    "\n",
    "df = pd.DataFrame(columns=['Predicted Labels', 'Actual Labels'])\n",
    "df['Predicted Labels'] = y_pred.flatten()\n",
    "df['Actual Labels'] = y_test.flatten()\n",
    "\n",
    "df.head(10)"
   ]
  },
  {
   "cell_type": "code",
   "execution_count": 27,
   "id": "restricted-bench",
   "metadata": {
    "scrolled": true
   },
   "outputs": [
    {
     "data": {
      "text/plain": [
       "array([['fear'],\n",
       "       ['angry'],\n",
       "       ['fear'],\n",
       "       ...,\n",
       "       ['surprise'],\n",
       "       ['calm'],\n",
       "       ['calm']], dtype=object)"
      ]
     },
     "execution_count": 27,
     "metadata": {},
     "output_type": "execute_result"
    }
   ],
   "source": [
    "y_pred"
   ]
  },
  {
   "cell_type": "code",
   "execution_count": null,
   "id": "flexible-cleaners",
   "metadata": {},
   "outputs": [],
   "source": []
  }
 ],
 "metadata": {
  "kernelspec": {
   "display_name": "Python 3",
   "language": "python",
   "name": "python3"
  },
  "language_info": {
   "codemirror_mode": {
    "name": "ipython",
    "version": 3
   },
   "file_extension": ".py",
   "mimetype": "text/x-python",
   "name": "python",
   "nbconvert_exporter": "python",
   "pygments_lexer": "ipython3",
   "version": "3.9.0"
  }
 },
 "nbformat": 4,
 "nbformat_minor": 5
}
